{
  "nbformat": 4,
  "nbformat_minor": 0,
  "metadata": {
    "colab": {
      "name": "Week5.ipynb",
      "provenance": [],
      "authorship_tag": "ABX9TyOvyuiDjRPFdxhBmHRwvy4x",
      "include_colab_link": true
    },
    "kernelspec": {
      "name": "python3",
      "display_name": "Python 3"
    }
  },
  "cells": [
    {
      "cell_type": "markdown",
      "metadata": {
        "id": "view-in-github",
        "colab_type": "text"
      },
      "source": [
        "<a href=\"https://colab.research.google.com/github/PanduDLaksono/PVCK_Genap_2021/blob/main/Week5.ipynb\" target=\"_parent\"><img src=\"https://colab.research.google.com/assets/colab-badge.svg\" alt=\"Open In Colab\"/></a>"
      ]
    },
    {
      "cell_type": "code",
      "metadata": {
        "id": "o2cEQiWZY_YW"
      },
      "source": [
        "# import library\r\n",
        "import cv2 as cv\r\n",
        "from google.colab.patches import cv2_imshow\r\n",
        "from skimage import io\r\n",
        "import matplotlib.pyplot as plt\r\n",
        "import numpy as np"
      ],
      "execution_count": 1,
      "outputs": []
    },
    {
      "cell_type": "code",
      "metadata": {
        "id": "obvDAs9OZWS-",
        "outputId": "d56cf518-4317-4b6c-8d97-d09a676cf1ce",
        "colab": {
          "base_uri": "https://localhost:8080/"
        }
      },
      "source": [
        "#koneksi ke google drive \r\n",
        "\r\n",
        "from google.colab import drive\r\n",
        "\r\n",
        "drive.mount('/content/drive')"
      ],
      "execution_count": 2,
      "outputs": [
        {
          "output_type": "stream",
          "text": [
            "Mounted at /content/drive\n"
          ],
          "name": "stdout"
        }
      ]
    },
    {
      "cell_type": "code",
      "metadata": {
        "id": "7bRYR6k7a-AT"
      },
      "source": [
        "#gamma corection\r\n",
        "\r\n",
        "print(' Gamma Correction pada citra ')\r\n",
        "print('----------------------------------')\r\n",
        "try:\r\n",
        "  gamma = int(input('Masukkan nilai Gamma: '))\r\n",
        "except ValueError:\r\n",
        "  print('Error, not a number')"
      ],
      "execution_count": null,
      "outputs": []
    }
  ]
}