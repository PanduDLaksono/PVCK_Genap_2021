{
  "nbformat": 4,
  "nbformat_minor": 0,
  "metadata": {
    "colab": {
      "name": "Week 9.ipynb",
      "provenance": [],
      "authorship_tag": "ABX9TyPPc5ZN2/xUAIwEIXTk8Mt6",
      "include_colab_link": true
    },
    "kernelspec": {
      "name": "python3",
      "display_name": "Python 3"
    },
    "language_info": {
      "name": "python"
    }
  },
  "cells": [
    {
      "cell_type": "markdown",
      "metadata": {
        "id": "view-in-github",
        "colab_type": "text"
      },
      "source": [
        "<a href=\"https://colab.research.google.com/github/PanduDLaksono/PVCK_Genap_2021/blob/main/Week_9.ipynb\" target=\"_parent\"><img src=\"https://colab.research.google.com/assets/colab-badge.svg\" alt=\"Open In Colab\"/></a>"
      ]
    },
    {
      "cell_type": "code",
      "metadata": {
        "id": "fyY9GEpEN-dO"
      },
      "source": [
        "#import library\n",
        "\n",
        "import cv2 as cv\n",
        "from google.colab.patches import cv2_imshow\n",
        "\n",
        "import numpy as np\n",
        "import matplotlib.pyplot as plt"
      ],
      "execution_count": 26,
      "outputs": []
    },
    {
      "cell_type": "code",
      "metadata": {
        "id": "0QQUC72hOD0O",
        "colab": {
          "base_uri": "https://localhost:8080/"
        },
        "outputId": "70e7af04-6e21-44c1-9d91-f90d0e4c484a"
      },
      "source": [
        "#koneksi ke drive\n",
        "from google.colab import drive\n",
        "\n",
        "drive.mount('/content/drive')"
      ],
      "execution_count": 27,
      "outputs": [
        {
          "output_type": "stream",
          "text": [
            "Drive already mounted at /content/drive; to attempt to forcibly remount, call drive.mount(\"/content/drive\", force_remount=True).\n"
          ],
          "name": "stdout"
        }
      ]
    },
    {
      "cell_type": "code",
      "metadata": {
        "colab": {
          "base_uri": "https://localhost:8080/",
          "height": 166
        },
        "id": "O-YBDsa0TRbO",
        "outputId": "9d9fa8be-8eaa-4cca-c49c-62e9067d8ba6"
      },
      "source": [
        "# akses citra di drive\n",
        "\n",
        "img = cv.imread('/content/drive/MyDrive/Polinema/PCVK_2021/images/j.png')\n",
        "\n",
        "cv2_imshow(img)"
      ],
      "execution_count": 28,
      "outputs": [
        {
          "output_type": "display_data",
          "data": {
            "image/png": "[encoded data removed]",
            "text/plain": [
              "<PIL.Image.Image image mode=RGB size=112x150 at 0x7F2F8C115290>"
            ]
          },
          "metadata": {
            "tags": []
          }
        }
      ]
    },
    {
      "cell_type": "code",
      "metadata": {
        "colab": {
          "base_uri": "https://localhost:8080/",
          "height": 286
        },
        "id": "LOBh8cVcVplD",
        "outputId": "b4f195ff-6cf3-450e-e037-25c5b059fdcc"
      },
      "source": [
        "#memperoleh ukuran citra\n",
        "img1 = cv.imread('/content/drive/MyDrive/Polinema/PCVK_2021/images/j.png', 0)\n",
        "\n",
        "m,n= img1.shape\n",
        "plt.imshow(img1, cmap=\"gray\")"
      ],
      "execution_count": 29,
      "outputs": [
        {
          "output_type": "execute_result",
          "data": {
            "text/plain": [
              "<matplotlib.image.AxesImage at 0x7f2f8bbee5d0>"
            ]
          },
          "metadata": {
            "tags": []
          },
          "execution_count": 29
        },
        {
          "output_type": "display_data",
          "data": {
            "image/png": "[encoded data removed]",
            "text/plain": [
              "<Figure size 432x288 with 1 Axes>"
            ]
          },
          "metadata": {
            "tags": [],
            "needs_background": "light"
          }
        }
      ]
    },
    {
      "cell_type": "code",
      "metadata": {
        "colab": {
          "base_uri": "https://localhost:8080/",
          "height": 321
        },
        "id": "psC94aWEYEcn",
        "outputId": "8ca0a1c9-60ba-40a0-876f-a66d91c15117"
      },
      "source": [
        "#Dilasi Tanpa library\n",
        "\n",
        "# citra untuk menyimpan pixel dilasi\n",
        "imgDilate= np.zeros((m, n), dtype=np.uint8)\n",
        "\n",
        "# menentukan masking (Structuring Element)\n",
        "SED= np.array([[1,1,1,1,1], [1,1,1,1,1], [1,1,1,1,1], [1,1,1,1,1], [1,1,1,1,1]])\n",
        "constant1=2\n",
        "\n",
        "#operasi dilasi\n",
        "for i in range(constant1, m-constant1):\n",
        "  for j in range(constant1, n-constant1):\n",
        "    temp= img1[i-constant1:i+constant1+1, j-constant1:j+constant1+1]\n",
        "    product= temp*SED\n",
        "    imgDilate[i,j]= np.max(product)\n",
        "plt.imshow(imgDilate,cmap=\"gray\")\n",
        "cv.imwrite(\"Dilated.png\", imgDilate)\n",
        "\n",
        "plt.subplot(121),plt.imshow(img),plt.title(\"citra asli\")\n",
        "plt.subplot(122),plt.imshow(imgDilate, cmap=\"gray\"),plt.title(\"citra dilasi 5x5\")"
      ],
      "execution_count": 50,
      "outputs": [
        {
          "output_type": "execute_result",
          "data": {
            "text/plain": [
              "(<matplotlib.axes._subplots.AxesSubplot at 0x7f2f8b2df290>,\n",
              " <matplotlib.image.AxesImage at 0x7f2f8b22eb90>,\n",
              " Text(0.5, 1.0, 'citra dilasi 5x5'))"
            ]
          },
          "metadata": {
            "tags": []
          },
          "execution_count": 50
        },
        {
          "output_type": "display_data",
          "data": {
            "image/png": "[encoded data removed]",
            "text/plain": [
              "<Figure size 432x288 with 2 Axes>"
            ]
          },
          "metadata": {
            "tags": [],
            "needs_background": "light"
          }
        }
      ]
    },
    {
      "cell_type": "code",
      "metadata": {
        "id": "_r3npH6DgLnO"
      },
      "source": [
        "#Erosi Tanpa library\n",
        "\n",
        "#memperoleh ukuran citra\n",
        "img2 = cv.imread('/content/drive/MyDrive/Polinema/PCVK_2021/images/j.png', 0)\n",
        "\n",
        "p,q= img2.shape\n",
        "plt.imshow(img2, cmap=\"gray\")\n",
        "\n",
        "\n",
        "\n",
        "# menentukan masking (Structuring Element)\n",
        "k=5\n",
        "SE= np.ones((k,k), dtype=np.uint8)\n",
        "constant= (k-1)//2\n",
        "\n",
        "# citra untuk menyimpan pixel erosi\n",
        "imgErode= np.zeros((p,q), dtype=np.uint8)\n",
        "\n",
        "#operasi dilasi\n",
        "for i in range(constant1, p-constant1):\n",
        "  for j in range(constant1, q-constant1):\n",
        "    temp= img1[i-constant1:i+constant1+1, j-constant1:j+constant1+1]\n",
        "    product= temp*SED\n",
        "    imgErode[i,j]= np.min(product)\n",
        "plt.imshow(imgErode,cmap=\"gray\")\n",
        "cv.imwrite(\"Erosi.png\", imgDilate)\n",
        "\n",
        "plt.subplot(121),plt.imshow(img),plt.title(\"citra asli\")\n",
        "plt.subplot(122),plt.imshow(imgDilate, cmap=\"gray\"),plt.title(\"citra erosi 5x5\")"
      ],
      "execution_count": null,
      "outputs": []
    }
  ]
}