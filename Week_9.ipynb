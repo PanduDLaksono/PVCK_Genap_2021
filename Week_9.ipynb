{
  "nbformat": 4,
  "nbformat_minor": 0,
  "metadata": {
    "colab": {
      "name": "Week 9.ipynb",
      "provenance": [],
      "authorship_tag": "ABX9TyNcXM2ajW1s9PADTSzTENtj",
      "include_colab_link": true
    },
    "kernelspec": {
      "name": "python3",
      "display_name": "Python 3"
    },
    "language_info": {
      "name": "python"
    }
  },
  "cells": [
    {
      "cell_type": "markdown",
      "metadata": {
        "id": "view-in-github",
        "colab_type": "text"
      },
      "source": [
        "<a href=\"https://colab.research.google.com/github/PanduDLaksono/PVCK_Genap_2021/blob/main/Week_9.ipynb\" target=\"_parent\"><img src=\"https://colab.research.google.com/assets/colab-badge.svg\" alt=\"Open In Colab\"/></a>"
      ]
    },
    {
      "cell_type": "code",
      "metadata": {
        "id": "fyY9GEpEN-dO"
      },
      "source": [
        "#import library\n",
        "\n",
        "import cv2 as cv\n",
        "from google.colab import drive\n",
        "import numpy as np\n",
        "import matplotlib.pyplot as plt"
      ],
      "execution_count": 3,
      "outputs": []
    },
    {
      "cell_type": "code",
      "metadata": {
        "id": "0QQUC72hOD0O"
      },
      "source": [
        "#koneksi ke drive\n",
        "\n"
      ],
      "execution_count": null,
      "outputs": []
    }
  ]
}