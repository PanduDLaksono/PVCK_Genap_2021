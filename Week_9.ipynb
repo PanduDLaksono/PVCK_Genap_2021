{
  "nbformat": 4,
  "nbformat_minor": 0,
  "metadata": {
    "colab": {
      "name": "Week 9.ipynb",
      "provenance": [],
      "authorship_tag": "ABX9TyNure7CYVA/dXqGcxXTDAw6",
      "include_colab_link": true
    },
    "kernelspec": {
      "name": "python3",
      "display_name": "Python 3"
    },
    "language_info": {
      "name": "python"
    }
  },
  "cells": [
    {
      "cell_type": "markdown",
      "metadata": {
        "id": "view-in-github",
        "colab_type": "text"
      },
      "source": [
        "<a href=\"https://colab.research.google.com/github/PanduDLaksono/PVCK_Genap_2021/blob/main/Week_9.ipynb\" target=\"_parent\"><img src=\"https://colab.research.google.com/assets/colab-badge.svg\" alt=\"Open In Colab\"/></a>"
      ]
    },
    {
      "cell_type": "code",
      "metadata": {
        "id": "fyY9GEpEN-dO"
      },
      "source": [
        "#import library\n",
        "\n",
        "import cv2 as cv\n",
        "from google.colab.patches import cv2_imshow\n",
        "\n",
        "import numpy as np\n",
        "import matplotlib.pyplot as plt"
      ],
      "execution_count": null,
      "outputs": []
    },
    {
      "cell_type": "code",
      "metadata": {
        "id": "0QQUC72hOD0O"
      },
      "source": [
        "#koneksi ke drive\n",
        "from google.colab import drive\n",
        "\n",
        "drive.mount('/content/drive')"
      ],
      "execution_count": null,
      "outputs": []
    },
    {
      "cell_type": "code",
      "metadata": {
        "id": "O-YBDsa0TRbO"
      },
      "source": [
        "# akses citra di drive\n",
        "\n",
        "img = cv.imread('/content/drive/MyDrive/Polinema/PCVK_2021/images/j.png')\n",
        "\n",
        "cv2_imshow(img)"
      ],
      "execution_count": null,
      "outputs": []
    },
    {
      "cell_type": "code",
      "metadata": {
        "id": "LOBh8cVcVplD"
      },
      "source": [
        "#memperoleh ukuran citra\n",
        "img1 = cv.imread('/content/drive/MyDrive/Polinema/PCVK_2021/images/j.png', 0)\n",
        "\n",
        "m,n= img1.shape\n",
        "plt.imshow(img1, cmap=\"gray\")"
      ],
      "execution_count": null,
      "outputs": []
    },
    {
      "cell_type": "code",
      "metadata": {
        "id": "psC94aWEYEcn"
      },
      "source": [
        "#Dilasi Tanpa library\n",
        "\n",
        "# citra untuk menyimpan pixel dilasi\n",
        "imgDilate= np.zeros((p,q), dtype=np.uint8)\n",
        "\n",
        "# menentukan masking (Structuring Element)\n",
        "SED= np.array([[1,1,1,1,1], [1,1,1,1,1], [1,1,1,1,1], [1,1,1,1,1], [1,1,1,1,1]])\n",
        "constant1=1\n",
        "\n",
        "#operasi dilasi\n",
        "for i in range(constant1, p-constant1):\n",
        "  for j in range(constant1, q-constant1):\n",
        "    temp= img1[i-constant1:i+constant1+1, j-constant1:j+constant1+1]\n",
        "    product= temp*SED\n",
        "    imgDilate[i,j]= np.max(product)\n",
        "plt.imshow(imgDilate,cmap=\"gray\")\n",
        "cv2.imwrite(\"Dilated.png\", imgDilate)"
      ],
      "execution_count": null,
      "outputs": []
    }
  ]
}